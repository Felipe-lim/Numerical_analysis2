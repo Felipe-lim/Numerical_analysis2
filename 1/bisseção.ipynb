{
 "cells": [
  {
   "cell_type": "code",
   "execution_count": 2,
   "metadata": {},
   "outputs": [],
   "source": [
    "import math"
   ]
  },
  {
   "cell_type": "code",
   "execution_count": 3,
   "metadata": {},
   "outputs": [],
   "source": [
    "class Dado:\n",
    "    a = 0.5 # Ponto innicial\n",
    "    b = 1.0\n",
    "    eps = 10e-3 # Tolerancia do erro\n",
    "    imax = 20 # numero max de iteracoes\n",
    "\n",
    "    #função problema\n",
    "    def f(x):\n",
    "        y  = x**3-9*x+5\n",
    "        return y"
   ]
  },
  {
   "cell_type": "code",
   "execution_count": 4,
   "metadata": {},
   "outputs": [],
   "source": [
    "def biss():\n",
    "\n",
    "    print(\"Se retornar 0, a raiz foi encontrada. Senao, retorna 1\")\n",
    "\n",
    "    #recebendo Dados do problema\n",
    "    tol = Dado.eps\n",
    "    a = Dado.a\n",
    "    b = Dado.b\n",
    "\n",
    "    #calculando f(a) e f(b)\n",
    "    fa = Dado.f(a)\n",
    "    fb = Dado.f(b)\n",
    "\n",
    "    #conferindo se os sinais são opostos em f de a e b\n",
    "    if(fa*fb > 0):\n",
    "        print(\"A função não muda de sinal nos extremos do intervalo\")\n",
    "        return 1\n",
    "\n",
    "    delta_x = abs(Dado.a - Dado.b)\n",
    "\n",
    "    for i in range(Dado.imax):\n",
    "\n",
    "        x = (a+b)/2 #valor médio entre a e b\n",
    "        fx = Dado.f(x)\n",
    "\n",
    "        #printando resultados\n",
    "        print(i, a, fa, b, fb, x, fx, delta_x)\n",
    "\n",
    "        #testando condição de parada\n",
    "        if (delta_x <= tol and abs(fx) <= tol):\n",
    "            break\n",
    "\n",
    "        #atribuindo novo valor ao intervalo\n",
    "        if (fa*fx > 0):\n",
    "            a = x\n",
    "            fa = fx \n",
    "\n",
    "        else:\n",
    "            b = x\n",
    "            fb = fx #professor errou no slide !!!!!! Avisar\n",
    "        \n",
    "        delta_x = delta_x /2\n",
    "\n",
    "    raiz = x\n",
    "\n",
    "    #teste de convergência\n",
    "    if(delta_x <= tol and abs(fx) <= tol):\n",
    "        print(\" A raiz foi encontrada!!\\n\", raiz)\n",
    "        return 0\n",
    "\n",
    "    else:\n",
    "        print(\"A raiz não foi encontrada.\")\n",
    "        return 1    \n",
    "\n"
   ]
  },
  {
   "cell_type": "code",
   "execution_count": 5,
   "metadata": {},
   "outputs": [
    {
     "name": "stdout",
     "output_type": "stream",
     "text": [
      "Se retornar 0, a raiz foi encontrada. Senao, retorna 1\n",
      "0 0.5 0.625 1.0 -3.0 0.75 -1.328125 0.5\n",
      "1 0.5 0.625 0.75 -1.328125 0.625 -0.380859375 0.25\n",
      "2 0.5 0.625 0.625 -0.380859375 0.5625 0.115478515625 0.125\n",
      "3 0.5625 0.115478515625 0.625 -0.380859375 0.59375 -0.134429931640625 0.0625\n",
      "4 0.5625 0.115478515625 0.59375 -0.134429931640625 0.578125 -0.009899139404296875 0.03125\n",
      "5 0.5625 0.115478515625 0.578125 -0.009899139404296875 0.5703125 0.05268526077270508 0.015625\n",
      "6 0.5703125 0.05268526077270508 0.578125 -0.009899139404296875 0.57421875 0.021366775035858154 0.0078125\n",
      "7 0.57421875 0.021366775035858154 0.578125 -0.009899139404296875 0.576171875 0.005727224051952362 0.00390625\n",
      " A raiz foi encontrada!!\n",
      " 0.576171875\n"
     ]
    },
    {
     "data": {
      "text/plain": [
       "0"
      ]
     },
     "execution_count": 5,
     "metadata": {},
     "output_type": "execute_result"
    }
   ],
   "source": [
    "biss()"
   ]
  },
  {
   "cell_type": "code",
   "execution_count": null,
   "metadata": {},
   "outputs": [],
   "source": []
  }
 ],
 "metadata": {
  "kernelspec": {
   "display_name": "Python 3",
   "language": "python",
   "name": "python3"
  },
  "language_info": {
   "codemirror_mode": {
    "name": "ipython",
    "version": 3
   },
   "file_extension": ".py",
   "mimetype": "text/x-python",
   "name": "python",
   "nbconvert_exporter": "python",
   "pygments_lexer": "ipython3",
   "version": "3.11.5"
  },
  "orig_nbformat": 4
 },
 "nbformat": 4,
 "nbformat_minor": 2
}
