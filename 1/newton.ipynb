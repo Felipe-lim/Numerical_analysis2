{
 "cells": [
  {
   "cell_type": "code",
   "execution_count": 16,
   "metadata": {},
   "outputs": [],
   "source": [
    "import numpy as np"
   ]
  },
  {
   "cell_type": "code",
   "execution_count": 17,
   "metadata": {},
   "outputs": [],
   "source": [
    "class Dado:\n",
    "    x0 = 0.5\n",
    "    eps = 10e-2 # Tolerancia do erro\n",
    "    imax = 20 # numero max de iteracoes\n",
    "\n",
    "\n",
    "    #função problema\n",
    "\n",
    "    def f(x): \n",
    "        return x**3-9*x+5\n",
    "\n",
    "    def df(x):\n",
    "        h = 1e-5  # Pequena variação em x para calcular a derivada numericamente\n",
    "        df_x = (Dado.f(x + h) - Dado.f(x - h)) / (2 * h)\n",
    "        return round(df_x, 5)"
   ]
  },
  {
   "cell_type": "code",
   "execution_count": 25,
   "metadata": {},
   "outputs": [],
   "source": [
    "def newton():\n",
    "\n",
    "    print(\"Se retornar 0, a raiz foi encontrada. Senao, retorna 1\")\n",
    "\n",
    "    tol = Dado.eps\n",
    "    x0 = Dado.x0\n",
    "\n",
    "    fx = Dado.f(x0)\n",
    "    dfx = Dado.df(x0)\n",
    "    x = x0\n",
    "\n",
    "    #printando valores\n",
    "    print(x, dfx, fx)\n",
    "\n",
    "    for i in range(Dado.imax):\n",
    "\n",
    "        #novo valor de x\n",
    "        delta_x = -fx/dfx \n",
    "        x = x + delta_x\n",
    "\n",
    "        #novos dados para a prox iteração\n",
    "        fx = Dado.f(x)\n",
    "        dfx = Dado.df(x)\n",
    "        \n",
    "        #printando valores\n",
    "        print(i, x, dfx, fx, delta_x)\n",
    "\n",
    "        #testando condição de parada\n",
    "        if((abs(delta_x) <= tol and abs(fx)<= tol) or dfx == 0):\n",
    "            break\n",
    "        \n",
    "    raiz = x \n",
    "\n",
    "    #teste de convergência\n",
    "    if(abs(delta_x) <= tol and abs(fx)<= tol):\n",
    "        print(\" A raiz foi encontrada!!!\\n\", raiz)\n",
    "        return 0\n",
    "    else:\n",
    "        print(\"A raiz não foi encontrada.\")\n",
    "        return 1 \n",
    "\n",
    "    "
   ]
  },
  {
   "cell_type": "code",
   "execution_count": 26,
   "metadata": {},
   "outputs": [
    {
     "name": "stdout",
     "output_type": "stream",
     "text": [
      "Se retornar 0, a raiz foi encontrada. Senao, retorna 1\n",
      "0.5 -8.25 0.625\n",
      "0 0.5757575757575758 -8.00551 0.009043604084925327 0.07575757575757576\n",
      " A raiz foi encontrada!!!\n",
      " 0.5757575757575758\n"
     ]
    },
    {
     "data": {
      "text/plain": [
       "0"
      ]
     },
     "execution_count": 26,
     "metadata": {},
     "output_type": "execute_result"
    }
   ],
   "source": [
    "newton()"
   ]
  }
 ],
 "metadata": {
  "kernelspec": {
   "display_name": "Python 3",
   "language": "python",
   "name": "python3"
  },
  "language_info": {
   "codemirror_mode": {
    "name": "ipython",
    "version": 3
   },
   "file_extension": ".py",
   "mimetype": "text/x-python",
   "name": "python",
   "nbconvert_exporter": "python",
   "pygments_lexer": "ipython3",
   "version": "3.11.5"
  },
  "orig_nbformat": 4
 },
 "nbformat": 4,
 "nbformat_minor": 2
}
