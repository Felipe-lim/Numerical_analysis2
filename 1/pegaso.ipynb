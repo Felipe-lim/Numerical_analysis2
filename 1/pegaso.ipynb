{
 "cells": [
  {
   "cell_type": "code",
   "execution_count": 1,
   "metadata": {},
   "outputs": [],
   "source": [
    "class Dado:\n",
    "    a = 0.5 # ponto a\n",
    "    b = 1.0 # ponto b\n",
    "    eps = 10e-2 # Tolerancia do erro\n",
    "    imax = 20 # numero max de iteracoes\n",
    "\n",
    "    #função problema\n",
    "    def f(x):\n",
    "        y  = x**3-9*x+5\n",
    "        return y"
   ]
  },
  {
   "cell_type": "code",
   "execution_count": 2,
   "metadata": {},
   "outputs": [],
   "source": [
    "def pegaso():\n",
    "\n",
    "    print(\"Se retornar 0, a raiz foi encontrada. Senao, retorna 1\")\n",
    "\n",
    "    #recebendo Dados do problema\n",
    "    a = Dado.a \n",
    "    b = Dado.b \n",
    "    tol = Dado.eps\n",
    "\n",
    "    #calculando f(a) e f(b)\n",
    "    fa = Dado.f(a)\n",
    "    fb = Dado.f(b)\n",
    "\n",
    "    #conferindo se os sinais são opostos em f de a e b\n",
    "\n",
    "    # Diz nos slide que os pontos devem ter sinais opostos, mas não \n",
    "    # no algoritmo!! \n",
    "    \n",
    "    if(fa*fb > 0):\n",
    "        print(\"A função não muda de sinal nos extremos do intervalo\")\n",
    "        return 1\n",
    "\n",
    "\n",
    "    x = b \n",
    "    fx = fb \n",
    "\n",
    "    #iteração principal\n",
    "    for i in range(Dado.imax):\n",
    "\n",
    "        delta_x = -fx/(fb-fa)*(b-a)\n",
    "        x += delta_x \n",
    "        fx = Dado.f(x)\n",
    "\n",
    "\n",
    "        #printando resultados\n",
    "        print(i, a, fa, b, fb, x, fx, delta_x)\n",
    "\n",
    "        #testando condição de parada\n",
    "        if(abs(delta_x)  <= tol and abs(fx) <= tol):\n",
    "            break\n",
    "            \n",
    "        # atualizando valores para a nova iteração\n",
    "        if(fx * fb < 0):\n",
    "            a = b \n",
    "            fa = fb \n",
    "        else:\n",
    "            #onde está o novo valor de a??\n",
    "            fa = (fa*fb) / (fb+fx)\n",
    "        \n",
    "        b = x \n",
    "        fb = fx \n",
    "\n",
    "\n",
    "    raiz = x \n",
    "\n",
    "    #teste de convergência\n",
    "    if(abs(delta_x) <= tol and abs(fx)<= tol):\n",
    "        print(\" A raiz foi encontrada!!!\\n\", raiz)\n",
    "        return 0\n",
    "\n",
    "    else:\n",
    "        print(\"A raiz não foi encontrada.\")\n",
    "        return 1 \n",
    "\n"
   ]
  },
  {
   "cell_type": "code",
   "execution_count": 3,
   "metadata": {},
   "outputs": [
    {
     "name": "stdout",
     "output_type": "stream",
     "text": [
      "Se retornar 0, a raiz foi encontrada. Senao, retorna 1\n",
      "0 0.5 0.625 1.0 -3.0 0.5862068965517242 -0.07441879535856355 -0.41379310344827586\n",
      "1 0.5 0.6098713691285909 0.5862068965517242 -0.07441879535856355 0.5768316143601591 0.0004473714460297984 -0.009375282191565172\n",
      " A raiz foi encontrada!!!\n",
      " 0.5768316143601591\n"
     ]
    },
    {
     "data": {
      "text/plain": [
       "0"
      ]
     },
     "execution_count": 3,
     "metadata": {},
     "output_type": "execute_result"
    }
   ],
   "source": [
    "pegaso()"
   ]
  },
  {
   "cell_type": "code",
   "execution_count": null,
   "metadata": {},
   "outputs": [],
   "source": []
  }
 ],
 "metadata": {
  "kernelspec": {
   "display_name": "Python 3",
   "language": "python",
   "name": "python3"
  },
  "language_info": {
   "codemirror_mode": {
    "name": "ipython",
    "version": 3
   },
   "file_extension": ".py",
   "mimetype": "text/x-python",
   "name": "python",
   "nbconvert_exporter": "python",
   "pygments_lexer": "ipython3",
   "version": "3.11.6"
  },
  "orig_nbformat": 4
 },
 "nbformat": 4,
 "nbformat_minor": 2
}
