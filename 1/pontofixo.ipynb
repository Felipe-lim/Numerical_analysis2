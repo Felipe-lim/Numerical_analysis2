{
 "cells": [
  {
   "cell_type": "code",
   "execution_count": null,
   "metadata": {},
   "outputs": [],
   "source": [
    "from math import sqrt"
   ]
  },
  {
   "cell_type": "code",
   "execution_count": 19,
   "metadata": {},
   "outputs": [],
   "source": [
    "class Dado:\n",
    "    x_start = 0.5 # Ponto innicial\n",
    "    eps = 10e-3 # Tolerancia do erro\n",
    "    imax = 20 # numero max de iteracoes\n",
    "\n",
    "    def g(x):\n",
    "        #y = sqrt(2+x)\n",
    "        #y = x**2 - 2\n",
    "        y  = (x**3+5)/9\n",
    "        return y"
   ]
  },
  {
   "cell_type": "code",
   "execution_count": 20,
   "metadata": {},
   "outputs": [],
   "source": [
    "def ponto_fixo():\n",
    "\n",
    "    p0 = Dado.x_start\n",
    "    TOL = Dado.eps    \n",
    "\n",
    "    for k in range(1,Dado.imax):\n",
    "\n",
    "        p  = Dado.g(p0)\n",
    "\n",
    "        if p - p0 < TOL or (p-p0)/p < TOL or p < TOL:\n",
    "\n",
    "            print (\"O resultado e: \",p)\n",
    "            print(k)\n",
    "            return p\n",
    "        p0 = p\n",
    "\n",
    "    print(\"O metodo falhou depois de %n interações\", Dado.imax)"
   ]
  },
  {
   "cell_type": "code",
   "execution_count": 21,
   "metadata": {},
   "outputs": [
    {
     "name": "stdout",
     "output_type": "stream",
     "text": [
      "O resultado e:  0.5760724475118122\n",
      "2\n"
     ]
    },
    {
     "data": {
      "text/plain": [
       "0.5760724475118122"
      ]
     },
     "execution_count": 21,
     "metadata": {},
     "output_type": "execute_result"
    }
   ],
   "source": [
    "ponto_fixo()"
   ]
  }
 ],
 "metadata": {
  "kernelspec": {
   "display_name": "Python 3",
   "language": "python",
   "name": "python3"
  },
  "language_info": {
   "codemirror_mode": {
    "name": "ipython",
    "version": 3
   },
   "file_extension": ".py",
   "mimetype": "text/x-python",
   "name": "python",
   "nbconvert_exporter": "python",
   "pygments_lexer": "ipython3",
   "version": "3.11.5"
  },
  "orig_nbformat": 4
 },
 "nbformat": 4,
 "nbformat_minor": 2
}
