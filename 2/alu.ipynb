{
 "cells": [
  {
   "cell_type": "code",
   "execution_count": 2,
   "metadata": {},
   "outputs": [],
   "source": [
    "import numpy as np\n",
    "import copy\n"
   ]
  },
  {
   "cell_type": "code",
   "execution_count": 3,
   "metadata": {},
   "outputs": [],
   "source": [
    "class Dado:\n",
    "\n",
    "    A =[[ 1,  6,  2,   4],\n",
    "        [ 3, 19,  4,  15],\n",
    "        [ 1,  4,  8, -12],\n",
    "        [ 5, 33,  9,   3]]\n",
    "            \n",
    "    B = [8, 25, 18, 72]\n",
    "\n",
    "#    solucao = [-138, 20, 11, 1]\n",
    "\n",
    "def print_matrix(matrix):\n",
    "    for i in matrix:\n",
    "        print(i,)\n",
    "    print(\"\\n\")"
   ]
  },
  {
   "cell_type": "code",
   "execution_count": 4,
   "metadata": {},
   "outputs": [],
   "source": [
    "def lu( mA, mode = \"separado\"):\n",
    "\n",
    "#    Computa a Fatoracao LU com pivoteamento parcial de uma matriz (nxn)\n",
    "#    :param A: Matriz Real e Quadrada\n",
    "#    :param mode:\n",
    "#        1: condensado: return: Pivot, LU, Det \n",
    "#        (com LU condensada em uma unica matriz A) sendo U a matriz triangular \n",
    "#        superior mais a diagonal de A e L a matriz triangular inferior de A \n",
    "#\n",
    "#        2: separado: return: Pivot, L, U, Det \n",
    "#        (com LU separada em uma matriz L e outra U)\n",
    "\n",
    "\n",
    "    print(\"Fazendo a decomposica LU\")\n",
    "\n",
    "    if mode == \"separado\": \n",
    "        print(\"\\t Retorna: P L U Det, com LU separada em uma matriz L e outra U\")\n",
    "    elif mode == \"condensado\": \n",
    "        print(\"\\t Retorna P LU Det, com LU condensada em uma unica matriz\")\n",
    "    else: raise Exception(\"Modo especificado incorretamente\")\n",
    "\n",
    "    A = copy.deepcopy(mA)\n",
    "    n = len(A)\n",
    "    pivot = np.zeros(n, int)\n",
    "    for i in range(n):\n",
    "        pivot[i] = i\n",
    "\n",
    "    det = np.int64(1)\n",
    "    for j in range(0, n-1):\n",
    "        #escolha do elemento pivot\n",
    "\n",
    "        p = j\n",
    "        amax = abs(A[j][j])\n",
    "\n",
    "        for k in range(j+1, n):\n",
    "            if abs(A[k][j]) > amax:\n",
    "                amax = abs(A[k][j])\n",
    "                p = k\n",
    "\n",
    "        if p != j: \n",
    "\n",
    "            for k in range(0, n): # troca de linhas\n",
    "                A[j][k], A[p][k] = A[p][k], A[j][k]\n",
    "        \n",
    "            pivot[j], pivot[p] = pivot[p], pivot[j]\n",
    "            det *= -1\n",
    "\n",
    "        det *= A[j][j]\n",
    "\n",
    "        if abs(A[k][j]) != 0:\n",
    "            r =1.0 / A[j][j]\n",
    "\n",
    "            for i in range(j+1, n):\n",
    "                mult = A[i][j] * r \n",
    "                A[i][j] = mult\n",
    "\n",
    "                for k in range(j+1, n):\n",
    "                    A[i][k] -= mult * A[j][k]\n",
    "\n",
    "    det *= A[n-1][n-1]\n",
    "\n",
    "    if mode == \"separado\":\n",
    "        L = np.identity(n)\n",
    "        U = np.zeros((n,n))\n",
    "        for i in range(n):\n",
    "            U[i][i] = A [i][i]\n",
    "            for j in range(i):\n",
    "                L[i][j] = A[i][j]\n",
    "                U[j][i] = A[j][i]\n",
    "        print(pivot, '\\n', L, '\\n', U, '\\n', det)  \n",
    "\n",
    "    elif mode == \"condensado\":\n",
    "        print( pivot, '\\n', A, '\\n', det)\n",
    "\n",
    "    "
   ]
  },
  {
   "cell_type": "code",
   "execution_count": 5,
   "metadata": {},
   "outputs": [
    {
     "name": "stdout",
     "output_type": "stream",
     "text": [
      "Fazendo a decomposica LU\n",
      "\t Retorna: P L U Det, com LU separada em uma matriz L e outra U\n",
      "[3 2 1 0] \n",
      " [[1.         0.         0.         0.        ]\n",
      " [0.2        1.         0.         0.        ]\n",
      " [0.6        0.30769231 1.         0.        ]\n",
      " [0.2        0.23076923 0.37209302 1.        ]] \n",
      " [[  5.          33.           9.           3.        ]\n",
      " [  0.          -2.6          6.2        -12.6       ]\n",
      " [  0.           0.          -3.30769231  17.07692308]\n",
      " [  0.           0.           0.          -0.04651163]] \n",
      " -1.9999999999995521\n"
     ]
    }
   ],
   "source": [
    "lu(Dado.A, \"separado\")"
   ]
  }
 ],
 "metadata": {
  "kernelspec": {
   "display_name": "Python 3",
   "language": "python",
   "name": "python3"
  },
  "language_info": {
   "codemirror_mode": {
    "name": "ipython",
    "version": 3
   },
   "file_extension": ".py",
   "mimetype": "text/x-python",
   "name": "python",
   "nbconvert_exporter": "python",
   "pygments_lexer": "ipython3",
   "version": "3.11.6"
  },
  "orig_nbformat": 4
 },
 "nbformat": 4,
 "nbformat_minor": 2
}
