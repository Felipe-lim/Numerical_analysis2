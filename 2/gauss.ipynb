{
 "cells": [
  {
   "cell_type": "code",
   "execution_count": 1,
   "metadata": {},
   "outputs": [],
   "source": [
    "class Dado:\n",
    "\n",
    "    A =[[ 1,  6,  2,   4],\n",
    "        [ 3, 19,  4,  15],\n",
    "        [ 1,  4,  8, -12],\n",
    "        [ 5, 33,  9,   3]]\n",
    "            \n",
    "    B = [8, 25, 18, 72]\n",
    "    \n",
    "    solucao = [-138, 20, 11, 1]\n",
    "\n",
    "#    A = [[1,-3,2],\n",
    "#        [-2,8,-1],\n",
    "#        [4,-6,5]]\n",
    "#\n",
    "#    B = [11,-15,29]"
   ]
  },
  {
   "cell_type": "code",
   "execution_count": 2,
   "metadata": {},
   "outputs": [],
   "source": [
    "def substituicoes_retroativas(U, D):\n",
    "\n",
    "    n = len(U) -1\n",
    "    x = [0] * (n + 1)  # Inicialize o vetor de solução x com zeros\n",
    "    \n",
    "    x[n] = round(D[n] / U[n][n], 2)  # Calcula a primeira solução\n",
    "    \n",
    "    for i in range(n-1, -1, -1):\n",
    "        soma = 0\n",
    "\n",
    "        for j in range(n, i, -1):\n",
    "            soma += U[i][j] * x[j]\n",
    "        \n",
    "        x[i] = round((D[i] - soma) / U[i][i], 2)\n",
    "\n",
    "    return x"
   ]
  },
  {
   "cell_type": "code",
   "execution_count": 5,
   "metadata": {},
   "outputs": [],
   "source": [
    "import copy\n",
    "\n",
    "def gauss(A, B):\n",
    "\n",
    "    #criando uma copia dos dados\n",
    "    a = copy.deepcopy(A)\n",
    "    b = copy.deepcopy(B)\n",
    "\n",
    "    #iniciando o determinante e o tamanho da matriz\n",
    "    det = 1\n",
    "    n = len(a)\n",
    "\n",
    "    #loop principal\n",
    "    for k in range(n-1):\n",
    "        \n",
    "        #procurando o pivot\n",
    "        maior_celula = 0\n",
    "        for i in range(k, n):\n",
    "            if (abs(maior_celula) < abs( a[i][k])):\n",
    "                maior_celula = a[i][k]\n",
    "                maior_linha = i\n",
    "\n",
    "        #tirando matriz erro\n",
    "        if (maior_celula == 0):\n",
    "            print(\"Gauss: singular matrix\")\n",
    "            return 0\n",
    "\n",
    "        #colocando o pivot no lugar, se for necessario\n",
    "        if (maior_linha != k):\n",
    "            a[maior_linha], a[k] = a[k], a[maior_linha]\n",
    "            b[maior_linha], b[k] = b[k], b[maior_linha]\n",
    "\n",
    "        #atualizando determinante\n",
    "        det *= a[k][k]\n",
    "\n",
    "        #loop para fazer a matriz triangular\n",
    "        #pega linhas\n",
    "        for j in range(k+1, n):\n",
    "            t = a[j][k] / a[k][k]\n",
    "\n",
    "            #pega as colunas\n",
    "            for i in range(n):\n",
    "                a[j][i] -= t * a[k][i]\n",
    "        \n",
    "            b[j] -= t * b[k]\n",
    "\n",
    "    #chama a funcao que resolve sistemas triangulares\n",
    "    solucao = substituicoes_retroativas(a, b)\n",
    "    print(a, \"\\n\", b)\n",
    "    return solucao\n",
    "\n"
   ]
  },
  {
   "cell_type": "code",
   "execution_count": 6,
   "metadata": {},
   "outputs": [
    {
     "name": "stdout",
     "output_type": "stream",
     "text": [
      "[[5, 33, 9, 3], [0.0, -2.6000000000000005, 6.2, -12.6], [0.0, -1.1102230246251565e-16, -3.3076923076923084, 17.07692307692308], [0.0, 4.131062417209887e-17, 0.0, -0.04651162790698038]] \n",
      " [72, 3.5999999999999996, -19.307692307692303, -0.04651162790697505]\n"
     ]
    },
    {
     "data": {
      "text/plain": [
       "[-138.0, 20.0, 11.0, 1.0]"
      ]
     },
     "execution_count": 6,
     "metadata": {},
     "output_type": "execute_result"
    }
   ],
   "source": [
    "gauss(Dado.A, Dado.B)"
   ]
  },
  {
   "cell_type": "code",
   "execution_count": null,
   "metadata": {},
   "outputs": [],
   "source": []
  }
 ],
 "metadata": {
  "kernelspec": {
   "display_name": "Python 3",
   "language": "python",
   "name": "python3"
  },
  "language_info": {
   "codemirror_mode": {
    "name": "ipython",
    "version": 3
   },
   "file_extension": ".py",
   "mimetype": "text/x-python",
   "name": "python",
   "nbconvert_exporter": "python",
   "pygments_lexer": "ipython3",
   "version": "3.11.5"
  },
  "orig_nbformat": 4
 },
 "nbformat": 4,
 "nbformat_minor": 2
}
