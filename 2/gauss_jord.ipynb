{
 "cells": [
  {
   "cell_type": "code",
   "execution_count": 4,
   "metadata": {},
   "outputs": [],
   "source": [
    "class Dado:\n",
    "\n",
    "    A =[[ 1,  6,  2,   4],\n",
    "        [ 3, 19,  4,  15],\n",
    "        [ 1,  4,  8, -12],\n",
    "        [ 5, 33,  9,   3]]\n",
    "            \n",
    "    B = [8, 25, 18, 72]\n",
    "\n",
    "#    solucao = [-138, 20, 11, 1]"
   ]
  },
  {
   "cell_type": "code",
   "execution_count": 6,
   "metadata": {},
   "outputs": [],
   "source": [
    "def print_matrix(matrix, mb):\n",
    "    ind = 0\n",
    "    for i in matrix:\n",
    "        print(i, mb[ind])\n",
    "        ind +=1\n",
    "    print(\"\\n\")"
   ]
  },
  {
   "cell_type": "code",
   "execution_count": 7,
   "metadata": {},
   "outputs": [],
   "source": [
    "import copy\n",
    "\n",
    "def gauss_jord(A, B):\n",
    "\n",
    "    #criando uma copia dos dados\n",
    "    a = copy.deepcopy(A)\n",
    "    b = copy.deepcopy(B)\n",
    "\n",
    "    #iniciando o determinante e o tamanho da matriz\n",
    "    det = 1\n",
    "    n = len(a)\n",
    "\n",
    "    print_matrix(a,b)\n",
    "\n",
    "    #loop principal\n",
    "    for k in range(n):\n",
    "\n",
    "        pivot = a[k][k]\n",
    "\n",
    "        #tirando matriz erro\n",
    "        if (pivot == 0):\n",
    "            print(\"Gauss: singular matrix\")\n",
    "            return 0\n",
    "\n",
    "        # Dividindo a linha k pelo valor do pivot para tornar o elemento da diagonal principal igual a 1\n",
    "        for j in range(n):\n",
    "            a[k][j] /= pivot\n",
    "\n",
    "        b[k] /= pivot\n",
    "\n",
    "        #atualizando determinante\n",
    "        det *= pivot\n",
    "\n",
    "        #loop para fazer a matriz identidade\n",
    "        #pega linhas\n",
    "        for j in range(n):\n",
    "\n",
    "            if j != k:\n",
    "                t = a[j][k]\n",
    "\n",
    "                #pega as colunas\n",
    "                for i in range(n):\n",
    "                    a[j][i] -= t * a[k][i]\n",
    "\n",
    "                b[j] -= t * b[k]\n",
    "\n",
    "    print_matrix(a,b)    \n"
   ]
  },
  {
   "cell_type": "code",
   "execution_count": 8,
   "metadata": {},
   "outputs": [
    {
     "name": "stdout",
     "output_type": "stream",
     "text": [
      "[1, 6, 2, 4] 8\n",
      "[3, 19, 4, 15] 25\n",
      "[1, 4, 8, -12] 18\n",
      "[5, 33, 9, 3] 72\n",
      "\n",
      "\n",
      "[1.0, 0.0, 0.0, 0.0] -138.0\n",
      "[0.0, 1.0, 0.0, 0.0] 20.0\n",
      "[0.0, 0.0, 1.0, 0.0] 11.0\n",
      "[-0.0, -0.0, -0.0, 1.0] 1.0\n",
      "\n",
      "\n"
     ]
    }
   ],
   "source": [
    "gauss_jord(Dado.A, Dado.B)"
   ]
  },
  {
   "cell_type": "code",
   "execution_count": null,
   "metadata": {},
   "outputs": [],
   "source": []
  }
 ],
 "metadata": {
  "kernelspec": {
   "display_name": "Python 3",
   "language": "python",
   "name": "python3"
  },
  "language_info": {
   "codemirror_mode": {
    "name": "ipython",
    "version": 3
   },
   "file_extension": ".py",
   "mimetype": "text/x-python",
   "name": "python",
   "nbconvert_exporter": "python",
   "pygments_lexer": "ipython3",
   "version": "3.11.5"
  },
  "orig_nbformat": 4
 },
 "nbformat": 4,
 "nbformat_minor": 2
}
