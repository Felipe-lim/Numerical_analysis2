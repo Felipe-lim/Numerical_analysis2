{
 "cells": [
  {
   "cell_type": "code",
   "execution_count": 13,
   "metadata": {},
   "outputs": [],
   "source": [
    "class Dado:\n",
    "\n",
    "#   U =[[5, -2, 6,  1],\n",
    "#       [0,  3, 7, -4],\n",
    "#       [0,  0, 4,  5],\n",
    "#       [0,  0, 0,  2]]\n",
    "#            \n",
    "#   D = [1, -2, 28, 8]\n",
    "\n",
    "    U =[[ 1,  6,  2,   4],\n",
    "    [ 3, 19,  4,  15],\n",
    "    [ 1,  4,  8, -12],\n",
    "    [ 5, 33,  9,   3]]\n",
    "        \n",
    "    D = [8, 25, 18, 72]\n"
   ]
  },
  {
   "cell_type": "code",
   "execution_count": 14,
   "metadata": {},
   "outputs": [],
   "source": [
    "def substituicoes_retroativas(U, D):\n",
    "\n",
    "    n = len(U) -1\n",
    "    x = [0] * (n + 1)  # Inicialize o vetor de solução x com zeros\n",
    "    \n",
    "    x[n] = round(D[n] / U[n][n])  # Calcula a primeira solução\n",
    "    \n",
    "    for i in range(n-1, -1, -1):\n",
    "        soma = 0\n",
    "\n",
    "        for j in range(n, i, -1):\n",
    "            soma += U[i][j] * x[j]\n",
    "        \n",
    "        x[i] = round((D[i] - soma) / U[i][i], 2)\n",
    "    return x"
   ]
  },
  {
   "cell_type": "code",
   "execution_count": 15,
   "metadata": {},
   "outputs": [
    {
     "data": {
      "text/plain": [
       "[-10.42, -25.68, 38.25, 24.0]"
      ]
     },
     "execution_count": 15,
     "metadata": {},
     "output_type": "execute_result"
    }
   ],
   "source": [
    "substituicoes_retroativas(Dado.U, Dado.D)"
   ]
  }
 ],
 "metadata": {
  "kernelspec": {
   "display_name": "Python 3",
   "language": "python",
   "name": "python3"
  },
  "language_info": {
   "codemirror_mode": {
    "name": "ipython",
    "version": 3
   },
   "file_extension": ".py",
   "mimetype": "text/x-python",
   "name": "python",
   "nbconvert_exporter": "python",
   "pygments_lexer": "ipython3",
   "version": "3.11.5"
  },
  "orig_nbformat": 4
 },
 "nbformat": 4,
 "nbformat_minor": 2
}
