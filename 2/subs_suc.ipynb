{
 "cells": [
  {
   "cell_type": "code",
   "execution_count": 1,
   "metadata": {},
   "outputs": [],
   "source": [
    "class Dado:\n",
    "\n",
    "    L =[[ 2,  0,  0, 0],\n",
    "        [ 3,  5,  0, 0],\n",
    "        [ 1, -6,  8, 0],\n",
    "        [-1,  4, -3, 9]]\n",
    "            \n",
    "    C = [4, 1, 48, 6]"
   ]
  },
  {
   "cell_type": "code",
   "execution_count": 2,
   "metadata": {},
   "outputs": [],
   "source": [
    "def substituicoes_sucessivas(L, C):\n",
    "\n",
    "    n = len(L)\n",
    "    x = [0] * n  # Inicialize o vetor de solução x com zeros\n",
    "    \n",
    "    x[0] = C[0] / L[0][0]  # Calcula a primeira solução\n",
    "    \n",
    "    for i in range(1, n):\n",
    "        soma = 0\n",
    "\n",
    "        for j in range(i):\n",
    "            soma += L[i][j] * x[j]\n",
    "        \n",
    "        x[i] = (C[i] - soma) / L[i][i]\n",
    "\n",
    "    return x"
   ]
  },
  {
   "cell_type": "code",
   "execution_count": 3,
   "metadata": {},
   "outputs": [
    {
     "data": {
      "text/plain": [
       "[2.0, -1.0, 5.0, 3.0]"
      ]
     },
     "execution_count": 3,
     "metadata": {},
     "output_type": "execute_result"
    }
   ],
   "source": [
    "substituicoes_sucessivas(Dado.L, Dado.C)"
   ]
  }
 ],
 "metadata": {
  "kernelspec": {
   "display_name": "Python 3",
   "language": "python",
   "name": "python3"
  },
  "language_info": {
   "codemirror_mode": {
    "name": "ipython",
    "version": 3
   },
   "file_extension": ".py",
   "mimetype": "text/x-python",
   "name": "python",
   "nbconvert_exporter": "python",
   "pygments_lexer": "ipython3",
   "version": "3.11.5"
  },
  "orig_nbformat": 4
 },
 "nbformat": 4,
 "nbformat_minor": 2
}
