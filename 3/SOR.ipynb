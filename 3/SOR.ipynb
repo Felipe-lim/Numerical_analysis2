{
 "cells": [
  {
   "cell_type": "code",
   "execution_count": 2,
   "metadata": {},
   "outputs": [],
   "source": [
    "class Dado:\n",
    "\n",
    "    A =[[ 10,  3,  -2],\n",
    "        [ 2,   8,  -1],\n",
    "        [ 1,   1,   5]]\n",
    "            \n",
    "    B = [57,  20,  -4]\n",
    "\n",
    "    Omega = 1.5\n",
    "\n",
    "    eps = 10e-2 # Tolerancia do erro\n",
    "    imax = 50 # numero max de iteracoes"
   ]
  },
  {
   "cell_type": "code",
   "execution_count": 3,
   "metadata": {},
   "outputs": [],
   "source": [
    "import copy\n",
    "\n",
    "#jacobi(Matriz A, Matriz B, eps, IterMax)\n",
    "def sor(A, B, Omega, Tol, imax):\n",
    "\n",
    "    #criando uma copia dos dados\n",
    "    a = copy.deepcopy(A)\n",
    "    b = copy.deepcopy(B)\n",
    "    x = []\n",
    "    n = len(a)\n",
    "\n",
    "    for i in range(n):\n",
    "        r = 1/a[i][i]\n",
    "        for j in range(n):\n",
    "            if i != j:\n",
    "                a[i][j] *= r \n",
    "\n",
    "        b[i] *= r \n",
    "        x.append(b[i])\n",
    "    \n",
    "    # iteracoes da sobre-relaxacao sucessiva\n",
    "    for k in range(imax):\n",
    "        v = []\n",
    "        for i in range(n):\n",
    "            soma = 0\n",
    "            for j in range(n):\n",
    "                if i!= j:\n",
    "                    soma += a[i][j] * x[j]\n",
    "            \n",
    "            v.append(x[i])\n",
    "            x[i] = Omega * (b[i] - soma) + (1- Omega) * x[i]\n",
    "\n",
    "        norma_num = 0\n",
    "        norma_den = 0\n",
    "        for i in range(n):\n",
    "            t = abs(x[i] - v[i])\n",
    "            \n",
    "            if t > norma_num:\n",
    "                norma_num = t\n",
    "\n",
    "            if abs(x[i]) > norma_den:\n",
    "                norma_den = abs(x[i])\n",
    "        \n",
    "        norma_rel = norma_num/norma_den\n",
    "\n",
    "        print(k, x, norma_rel)\n",
    "\n",
    "        #teste de convergencia\n",
    "        if norma_rel <= Tol:\n",
    "            break\n",
    "\n",
    "    if norma_rel <= Tol:\n",
    "        cond_erro = 0\n",
    "    else:\n",
    "        cond_erro = 1\n",
    "\n"
   ]
  },
  {
   "cell_type": "code",
   "execution_count": 4,
   "metadata": {},
   "outputs": [
    {
     "name": "stdout",
     "output_type": "stream",
     "text": [
      "0 [4.335000000000001, 0.7243749999999995, -2.3178125] 0.4096020761245675\n",
      "1 [5.361187500000001, 0.9427773437499999, -1.9322832031250006] 0.1914104850837617\n",
      "2 [4.865471484375, 1.0917564208984374, -2.0210267700195312] 0.10188447660559631\n",
      "3 [5.019665837402345, 0.9428045811462399, -1.9782277405548097] 0.03071805136477761\n"
     ]
    }
   ],
   "source": [
    "sor(Dado.A, Dado.B, Dado.Omega, Dado.eps, Dado.imax)"
   ]
  }
 ],
 "metadata": {
  "kernelspec": {
   "display_name": "Python 3",
   "language": "python",
   "name": "python3"
  },
  "language_info": {
   "codemirror_mode": {
    "name": "ipython",
    "version": 3
   },
   "file_extension": ".py",
   "mimetype": "text/x-python",
   "name": "python",
   "nbconvert_exporter": "python",
   "pygments_lexer": "ipython3",
   "version": "3.11.6"
  }
 },
 "nbformat": 4,
 "nbformat_minor": 2
}
