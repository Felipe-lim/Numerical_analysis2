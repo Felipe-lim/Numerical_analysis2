{
 "cells": [
  {
   "cell_type": "code",
   "execution_count": 7,
   "metadata": {},
   "outputs": [],
   "source": [
    "class Dado:\n",
    "\n",
    "    A =[[ 10,  3,  -2],\n",
    "        [ 2,   8,  -1],\n",
    "        [ 1,   1,   5]]\n",
    "            \n",
    "    B = [57,  20,  -4]\n",
    "\n",
    "    eps = 10e-6 # Tolerancia do erro\n",
    "    imax = 50 # numero max de iteracoes"
   ]
  },
  {
   "cell_type": "code",
   "execution_count": 5,
   "metadata": {},
   "outputs": [],
   "source": [
    "import copy\n",
    "\n",
    "#jacobi(Matriz A, Matriz B, eps, IterMax)\n",
    "def gauss_jord(A, B, Tol, imax):\n",
    "\n",
    "    #criando uma copia dos dados\n",
    "    a = copy.deepcopy(A)\n",
    "    b = copy.deepcopy(B)\n",
    "    x = []\n",
    "    n = len(a)\n",
    "\n",
    "    for i in range(n):\n",
    "        r = 1/a[i][i]\n",
    "        for j in range(n):\n",
    "            if i != j:\n",
    "                a[i][j] = a[i][j] * r \n",
    "\n",
    "        b[i] = b[i] * r \n",
    "        x.append(b[i])\n",
    "    \n",
    "    #iteracoes gauss-seidel\n",
    "    for k in range(imax):\n",
    "        v = []\n",
    "        for i in range(n):\n",
    "            soma = 0\n",
    "            for j in range(n):\n",
    "                if i != j:\n",
    "                    soma = soma + a[i][j] * x[j]\n",
    "\n",
    "            v.append(x[i])\n",
    "            x[i] = b[i] - soma\n",
    "\n",
    "        norma_num = 0\n",
    "        norma_den = 0\n",
    "        for i in range(n):\n",
    "            t = abs(x[i] - v[i])\n",
    "\n",
    "            if t > norma_num:\n",
    "                norma_num = t \n",
    "                \n",
    "            if abs(x[i]) > norma_den:\n",
    "                norma_den = abs(x[i])\n",
    "        \n",
    "        norma_rel = norma_num/norma_den\n",
    "        print(k, x, norma_rel)\n",
    "\n",
    "        #teste de convergencia\n",
    "        if norma_rel <= Tol:\n",
    "            break\n",
    "        \n",
    "    if norma_rel <= Tol:\n",
    "        cond_erro = 0\n",
    "    else:\n",
    "        cond_erro = 1\n",
    "    \n",
    "\n",
    "\n"
   ]
  },
  {
   "cell_type": "code",
   "execution_count": 8,
   "metadata": {},
   "outputs": [
    {
     "name": "stdout",
     "output_type": "stream",
     "text": [
      "0 [4.79, 1.2025, -1.9985000000000002] 0.2708768267223382\n",
      "1 [4.9395500000000006, 1.0152999999999999, -1.9909700000000001] 0.03789818910629511\n",
      "2 [4.997216, 1.00182475, -1.99980815] 0.011539625263346497\n",
      "3 [4.999490945, 1.000151245, -1.9999284380000002] 0.0004550353276017219\n",
      "4 [4.9999689389, 1.000016710525, -1.9999971298850001] 9.559937388445922e-05\n",
      "5 [4.9999955608655, 1.000001468548, -1.9999994058827] 5.324397827069446e-06\n"
     ]
    }
   ],
   "source": [
    "gauss_jord(Dado.A, Dado.B, Dado.eps, Dado.imax)"
   ]
  },
  {
   "cell_type": "code",
   "execution_count": null,
   "metadata": {},
   "outputs": [],
   "source": []
  }
 ],
 "metadata": {
  "kernelspec": {
   "display_name": "Python 3",
   "language": "python",
   "name": "python3"
  },
  "language_info": {
   "codemirror_mode": {
    "name": "ipython",
    "version": 3
   },
   "file_extension": ".py",
   "mimetype": "text/x-python",
   "name": "python",
   "nbconvert_exporter": "python",
   "pygments_lexer": "ipython3",
   "version": "3.11.5"
  }
 },
 "nbformat": 4,
 "nbformat_minor": 2
}
