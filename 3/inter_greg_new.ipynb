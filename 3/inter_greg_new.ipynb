{
 "cells": [
  {
   "cell_type": "code",
   "execution_count": 1,
   "metadata": {},
   "outputs": [],
   "source": [
    "class Dado:\n",
    "    # Número de pontos\n",
    "    m = 3\n",
    "    # Valores de x\n",
    "    x = [110, 120, 130]\n",
    "    # Valores correspondentes de y\n",
    "    y = [2.0410, 2.0790, 2.1140]\n",
    "    # Ponto para estimativa\n",
    "    z = 115\n",
    "\n"
   ]
  },
  {
   "cell_type": "code",
   "execution_count": 4,
   "metadata": {},
   "outputs": [],
   "source": [
    "def inter_greg_new(m, x, y, z):\n",
    "    # Inicializa a tabela de diferenças divididas com os valores de y\n",
    "    dely = list(y)\n",
    "\n",
    "    # Construção da tabela de diferenças divididas\n",
    "    for k in range(1, m):\n",
    "        for i in range(m - 1, k - 1, -1):\n",
    "            # Calcula diferença dividida de ordem k\n",
    "            dely[i] = (dely[i] - dely[i - 1])\n",
    "\n",
    "    # Calcula o termo u da fórmula de interpolação\n",
    "    u = (z - x[0]) / (x[1] - x[0])\n",
    "    # Inicializa r com o termo mais à direita da tabela (última diferença dividida)\n",
    "    r = dely[m - 1]\n",
    "\n",
    "\n",
    "    # Loop para calcular o valor interpolado r\n",
    "    for i in range(m - 1, 0, -1):\n",
    "        # Calcula o próximo termo da série de Gregory-Newton\n",
    "        # Obs: A expressão original (i + dely[i]) parece estar incorreta, pois as diferenças divididas não devem ser somadas aos índices.\n",
    "        r = (r * (u - (i - 1))) / i + dely[i - 1]  # O comentário indica que esta linha pode conter um erro.\n",
    "\n",
    "    # Exibe o resultado da interpolação\n",
    "    print(r)"
   ]
  },
  {
   "cell_type": "code",
   "execution_count": 5,
   "metadata": {},
   "outputs": [
    {
     "name": "stdout",
     "output_type": "stream",
     "text": [
      "2.060375\n"
     ]
    }
   ],
   "source": [
    "inter_greg_new(Dado.m, Dado.x, Dado.y, Dado.z)"
   ]
  }
 ],
 "metadata": {
  "kernelspec": {
   "display_name": "Python 3",
   "language": "python",
   "name": "python3"
  },
  "language_info": {
   "codemirror_mode": {
    "name": "ipython",
    "version": 3
   },
   "file_extension": ".py",
   "mimetype": "text/x-python",
   "name": "python",
   "nbconvert_exporter": "python",
   "pygments_lexer": "ipython3",
   "version": "3.11.6"
  }
 },
 "nbformat": 4,
 "nbformat_minor": 2
}
