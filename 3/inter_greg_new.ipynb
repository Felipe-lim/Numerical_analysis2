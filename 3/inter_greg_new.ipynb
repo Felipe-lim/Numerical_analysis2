{
 "cells": [
  {
   "cell_type": "code",
   "execution_count": 13,
   "metadata": {},
   "outputs": [],
   "source": [
    "class Dado:\n",
    "    m = 5\n",
    "    x = [0.1, 0.3, 0.4, 0.6, 0.7]\n",
    "    y = [0.3162, 0.5477, 0.6325, 0.7746, 0.8367]\n",
    "    z = 0.2\n",
    "\n",
    "    #resultado = 0.4456\n"
   ]
  },
  {
   "cell_type": "code",
   "execution_count": 14,
   "metadata": {},
   "outputs": [],
   "source": [
    "def inter_greg_new(m, x, y, z):\n",
    "    dely = list(y)  # Copia os valores de y para dely\n",
    "\n",
    "    for k in range(1, m):\n",
    "        for i in range(m - 1, k - 1, -1):\n",
    "            dely[i] = (dely[i] - dely[i - 1])\n",
    "\n",
    "    r = dely[m - 1]  \n",
    "    u = (z - x[0]) / (x[1] - x[0])\n",
    "\n",
    "    for i in range(m - 2, -1, -1):\n",
    "        r = r * (u - i + 1) / (i + dely[i]) # ultimos parenteses nao estavam, não pega sem. perguntar ao professor\n",
    "\n",
    "    return r\n"
   ]
  },
  {
   "cell_type": "code",
   "execution_count": 15,
   "metadata": {},
   "outputs": [
    {
     "data": {
      "text/plain": [
       "-0.08302794713654546"
      ]
     },
     "execution_count": 15,
     "metadata": {},
     "output_type": "execute_result"
    }
   ],
   "source": [
    "inter_greg_new(Dado.m, Dado.x, Dado.y, Dado.z)"
   ]
  }
 ],
 "metadata": {
  "kernelspec": {
   "display_name": "Python 3",
   "language": "python",
   "name": "python3"
  },
  "language_info": {
   "codemirror_mode": {
    "name": "ipython",
    "version": 3
   },
   "file_extension": ".py",
   "mimetype": "text/x-python",
   "name": "python",
   "nbconvert_exporter": "python",
   "pygments_lexer": "ipython3",
   "version": "3.11.6"
  }
 },
 "nbformat": 4,
 "nbformat_minor": 2
}
