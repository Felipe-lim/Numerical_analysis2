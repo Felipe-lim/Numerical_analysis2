{
 "cells": [
  {
   "cell_type": "code",
   "execution_count": 3,
   "metadata": {},
   "outputs": [],
   "source": [
    "class Dado:\n",
    "    m = 5\n",
    "    x = [0.1, 0.3, 0.4, 0.6, 0.7]\n",
    "    y = [0.3162, 0.5477, 0.6325, 0.7746, 0.8367]\n",
    "    z = 0.2\n",
    "\n",
    "    #resultado = 0.4456\n"
   ]
  },
  {
   "cell_type": "code",
   "execution_count": 2,
   "metadata": {},
   "outputs": [],
   "source": [
    "def inter_newton(m, x, y, z):\n",
    "    dely = list(y)  # Copia os valores de y para dely\n",
    "\n",
    "    for k in range(1, m):\n",
    "        for i in range(m - 1, k - 1, -1):\n",
    "            dely[i] = (dely[i] - dely[i - 1]) / (x[i] - x[i - k])\n",
    "\n",
    "    r = dely[m - 1]  # Use m - 1, pois os índices do Python começam em 0\n",
    "    for i in range(m - 2, -1, -1):\n",
    "        r = r * (z - x[i]) + dely[i]\n",
    "\n",
    "    return r\n"
   ]
  },
  {
   "cell_type": "code",
   "execution_count": 4,
   "metadata": {},
   "outputs": [
    {
     "data": {
      "text/plain": [
       "0.4455555555555556"
      ]
     },
     "execution_count": 4,
     "metadata": {},
     "output_type": "execute_result"
    }
   ],
   "source": [
    "inter_newton(Dado.m, Dado.x, Dado.y, Dado.z)"
   ]
  }
 ],
 "metadata": {
  "kernelspec": {
   "display_name": "Python 3",
   "language": "python",
   "name": "python3"
  },
  "language_info": {
   "codemirror_mode": {
    "name": "ipython",
    "version": 3
   },
   "file_extension": ".py",
   "mimetype": "text/x-python",
   "name": "python",
   "nbconvert_exporter": "python",
   "pygments_lexer": "ipython3",
   "version": "3.11.6"
  }
 },
 "nbformat": 4,
 "nbformat_minor": 2
}
