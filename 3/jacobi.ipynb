{
 "cells": [
  {
   "cell_type": "code",
   "execution_count": 1,
   "metadata": {},
   "outputs": [],
   "source": [
    "class Dado:\n",
    "\n",
    "    A =[[ 10,  3,  -2],\n",
    "        [ 2,   8,  -1],\n",
    "        [ 1,   1,   5]]\n",
    "            \n",
    "    B = [57,  20,  -4]\n",
    "\n",
    "    eps = 10e-2 # Tolerancia do erro\n",
    "    imax = 50 # numero max de iteracoes"
   ]
  },
  {
   "cell_type": "code",
   "execution_count": 2,
   "metadata": {},
   "outputs": [],
   "source": [
    "import copy\n",
    "\n",
    "#jacobi(Matriz A, Matriz B, eps, IterMax)\n",
    "def jacobi(A, B, Tol, imax):\n",
    "\n",
    "    #criando uma copia dos dados\n",
    "    a = copy.deepcopy(A)\n",
    "    b = copy.deepcopy(B)\n",
    "    x = []\n",
    "    n = len(a)\n",
    "\n",
    "    for i in range(n):\n",
    "        r = 1/a[i][i]\n",
    "        for j in range(n):\n",
    "            if i != j:\n",
    "                a[i][j] = a[i][j]*r \n",
    "\n",
    "        b[i] = b[i]*r \n",
    "        x.append(b[i])\n",
    "\n",
    "    #iterações de jacobi\n",
    "    for k in range(imax):\n",
    "        v =[]\n",
    "        for i in range(n):\n",
    "            soma = 0\n",
    "            for j in range(n):\n",
    "                if i != j:\n",
    "                    soma += a[i][j] * x[j]\n",
    "                    \n",
    "            v.append(b[i] - soma)\n",
    "        \n",
    "        norma_num = 0\n",
    "        norma_den = 0\n",
    "        for i in range(n):\n",
    "            t = abs(v[i] - x[i])\n",
    "\n",
    "            if t > norma_num:\n",
    "                norma_num = t\n",
    "\n",
    "            if abs(v[i]) > norma_den:\n",
    "                norma_den = abs(v[i])\n",
    "            \n",
    "            x[i] = v[i]\n",
    "        \n",
    "        norma_rel = norma_num/norma_den\n",
    "        print(k, x, norma_rel)\n",
    "\n",
    "        #teste de convergencia\n",
    "\n",
    "        if norma_rel <= Tol:\n",
    "            break\n",
    "\n",
    "    if norma_rel <= Tol:\n",
    "        cond_erro = 0\n",
    "    else:\n",
    "        cond_erro = 1\n",
    "\n",
    "\n"
   ]
  },
  {
   "cell_type": "code",
   "execution_count": 3,
   "metadata": {},
   "outputs": [
    {
     "name": "stdout",
     "output_type": "stream",
     "text": [
      "0 [4.79, 0.9749999999999999, -2.4400000000000004] 0.34237995824634665\n",
      "1 [4.9195, 0.9975, -1.953] 0.09899380018294549\n"
     ]
    }
   ],
   "source": [
    "jacobi(Dado.A, Dado.B, Dado.eps, Dado.imax)"
   ]
  }
 ],
 "metadata": {
  "kernelspec": {
   "display_name": "Python 3",
   "language": "python",
   "name": "python3"
  },
  "language_info": {
   "codemirror_mode": {
    "name": "ipython",
    "version": 3
   },
   "file_extension": ".py",
   "mimetype": "text/x-python",
   "name": "python",
   "nbconvert_exporter": "python",
   "pygments_lexer": "ipython3",
   "version": "3.11.6"
  }
 },
 "nbformat": 4,
 "nbformat_minor": 2
}
