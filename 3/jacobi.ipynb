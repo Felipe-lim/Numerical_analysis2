{
 "cells": [
  {
   "cell_type": "code",
   "execution_count": 10,
   "metadata": {},
   "outputs": [],
   "source": [
    "class Dado:\n",
    "\n",
    "    A =[[ 10,  3,  -2],\n",
    "        [ 2,   8,  -1],\n",
    "        [ 1,   1,   5]]\n",
    "            \n",
    "    B = [57,  20,  -4]\n",
    "\n",
    "    eps = 10e-2 # Tolerancia do erro\n",
    "    imax = 50 # numero max de iteracoes"
   ]
  },
  {
   "cell_type": "code",
   "execution_count": 11,
   "metadata": {},
   "outputs": [],
   "source": [
    "import copy\n",
    "\n",
    "#jacobi(Matriz A, Matriz B, eps, IterMax)\n",
    "def jacobi(A, B, Tol, imax):\n",
    "\n",
    "    #criando uma copia dos dados\n",
    "    a = copy.deepcopy(A)\n",
    "    b = copy.deepcopy(B)\n",
    "    x = []\n",
    "    n = len(a)\n",
    "\n",
    "    for i in range(n):\n",
    "        r = 1/a[i][i]\n",
    "        for j in range(n):\n",
    "            if i != j:\n",
    "                a[i][j] = a[i][j]*r \n",
    "\n",
    "        b[i] = b[i]*r \n",
    "        x.append(b[i])\n",
    "\n",
    "    #iterações de jacobi\n",
    "    for k in range(imax):\n",
    "        v =[]\n",
    "        for i in range(n):\n",
    "            soma = 0\n",
    "            for j in range(n):\n",
    "                if i != j:\n",
    "                    soma += a[i][j] * x[j]\n",
    "                    \n",
    "            v.append(b[i] - soma)\n",
    "        \n",
    "        norma_num = 0\n",
    "        norma_den = 0\n",
    "        for i in range(n):\n",
    "            t = abs(v[i] - x[i])\n",
    "\n",
    "            if t > norma_num:\n",
    "                norma_num = t\n",
    "\n",
    "            if abs(v[i]) > norma_den:\n",
    "                norma_den = abs(v[i])\n",
    "            \n",
    "            x[i] = v[i]\n",
    "        \n",
    "        norma_rel = norma_num/norma_den\n",
    "        print(k, x, norma_rel)\n",
    "\n",
    "        #teste de convergencia\n",
    "\n",
    "        if norma_rel <= Tol:\n",
    "            break\n",
    "\n",
    "    if norma_rel <= Tol:\n",
    "        cond_erro = 0\n",
    "    else:\n",
    "        cond_erro = 1\n",
    "\n",
    "\n"
   ]
  },
  {
   "cell_type": "code",
   "execution_count": 9,
   "metadata": {},
   "outputs": [
    {
     "name": "stdout",
     "output_type": "stream",
     "text": [
      "0 [4.79, 0.9749999999999999, -2.4400000000000004] 0.34237995824634665\n",
      "1 [4.9195, 0.9975, -1.953] 0.09899380018294549\n",
      "2 [5.01015, 1.026, -1.9834000000000003] 0.018093270660559088\n",
      "3 [4.99552, 0.9995375, -2.0072300000000003] 0.005297246332714123\n",
      "4 [4.99869275, 1.00021625, -1.9990115000000002] 0.0016441298577513348\n",
      "5 [5.000132825, 1.000450375, -1.9997818] 0.000288007349084702\n",
      "6 [4.999908527500001, 0.99999406875, -2.00011664] 9.126291960949041e-05\n",
      "7 [4.999978451375, 1.0000082881249999, -1.9999805192500002] 2.7224267329043676e-05\n",
      "8 [5.0000014097125, 1.00000782225, -1.9999973479000002] 4.591666205323287e-06\n",
      "9 [4.999998183745, 0.999999979084375, -2.0000018463925002] 1.568633694800871e-06\n",
      "10 [4.999999636996187, 1.0000002232646874, -1.999999632565875] 4.427653571711758e-07\n",
      "11 [5.000000006507419, 1.0000001366802187, -1.999999972052175] 7.390224618194101e-08\n",
      "12 [4.999999964585499, 1.0000000018666235, -2.000000028637528] 2.696271922621375e-08\n",
      "13 [4.999999993712508, 1.0000000052739342, -1.9999999932904247] 7.069420657765066e-09\n",
      "14 [4.999999999759735, 1.00000000241057, -1.9999999997972884] 1.3013727429637427e-09\n",
      "15 [4.999999999317372, 1.000000000085405, -2.0000000004340612] 4.650329899571323e-10\n"
     ]
    }
   ],
   "source": [
    "jacobi(Dado.A, Dado.B, Dado.eps, Dado.imax)"
   ]
  }
 ],
 "metadata": {
  "kernelspec": {
   "display_name": "Python 3",
   "language": "python",
   "name": "python3"
  },
  "language_info": {
   "codemirror_mode": {
    "name": "ipython",
    "version": 3
   },
   "file_extension": ".py",
   "mimetype": "text/x-python",
   "name": "python",
   "nbconvert_exporter": "python",
   "pygments_lexer": "ipython3",
   "version": "3.11.5"
  }
 },
 "nbformat": 4,
 "nbformat_minor": 2
}
