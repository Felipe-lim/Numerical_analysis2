{
 "cells": [
  {
   "cell_type": "markdown",
   "metadata": {},
   "source": [
    "Parâmetros de Saída:\n",
    "- Integral: Valor numérico resultante da integração.\n",
    "- CondErro: Indicador de condição de erro, onde:\n",
    "  - CondErro = 0: Não houve erro de consistência dos parâmetros fornecidos.\n",
    "  - CondErro = 1: Ocorreu um erro devido ao número de subdivisões 'n' ser menor que 1 ou maior que 8.\n",
    "  - CondErro = 2: Ocorreu um erro porque o resto da divisão de 'm' por 'n' não é zero, indicando uma distribuição inconsistente dos intervalos de integração.\n",
    "  - CondErro = 3: Ambas as condições anteriores ocorreram, ou seja, 'n' está fora do intervalo permitido e o resto da divisão de 'm' por 'n' não é zero.\n"
   ]
  },
  {
   "cell_type": "code",
   "execution_count": 17,
   "metadata": {},
   "outputs": [],
   "source": [
    "import math\n",
    "\n",
    "class Dado:\n",
    "    a = 0\n",
    "    b = math.pi\n",
    "    n = 2\n",
    "    m = 6\n",
    "\n",
    "    #não fala que a função faz parte da entrada\n",
    "    def f(x):\n",
    "        y = math.sin(x)\n",
    "        return y\n",
    "\n",
    "\n",
    "d = [2, 6, 8, 90, 288, 840, 17280, 28350]\n",
    "c = [1, 1, 4, 1, 3, 7, 32, 12, 19, 75, 50, \n",
    "     41, 216, 27, 272, 751, 3577, 1323, 2989, \n",
    "     989, 5888, -928, 10496, -4540]"
   ]
  },
  {
   "cell_type": "code",
   "execution_count": 18,
   "metadata": {},
   "outputs": [],
   "source": [
    "def integ_new_c(a, b, n, m, c, d, f):\n",
    "    cond_erro = 0\n",
    "    integral = 0\n",
    "\n",
    "    if n<1 or n>8:\n",
    "        cond_erro += 1\n",
    "    \n",
    "    if m%n != 0:\n",
    "        cond_erro +=2\n",
    "\n",
    "    if cond_erro != 0:\n",
    "        return\n",
    "    \n",
    "    #Calculo da integral\n",
    "    p = int(0.25* (n* (n + 2)) + n%2)\n",
    "    h = (b - a)/m\n",
    "\n",
    "    for i in range(m+1):\n",
    "        x = a + i * h\n",
    "        y = f(x) #??????\n",
    "        j = p + int(0.5* n- abs((i%n)- 0.5* n))\n",
    "        k = 1 + int((n- (i%n))/ n) - int((m- (i%m))/ m)\n",
    "        integral = integral + y * c[j] * k\n",
    "        \n",
    "        print(i, x, y, c[j], k)\n",
    "    \n",
    "    integral = n * h / d[n] * integral\n",
    "    print(integral, cond_erro)"
   ]
  },
  {
   "cell_type": "code",
   "execution_count": 19,
   "metadata": {},
   "outputs": [
    {
     "name": "stdout",
     "output_type": "stream",
     "text": [
      "0 0.0 0.0 4 1\n",
      "1 0.5235987755982988 0.49999999999999994 1 1\n",
      "2 1.0471975511965976 0.8660254037844386 4 2\n",
      "3 1.5707963267948966 1.0 1 1\n",
      "4 2.0943951023931953 0.8660254037844387 4 2\n",
      "5 2.617993877991494 0.5000000000000003 1 1\n",
      "6 3.141592653589793 1.2246467991473532e-16 4 1\n",
      "2.075598752033367 0\n"
     ]
    }
   ],
   "source": [
    "integ_new_c(Dado.a, Dado.b, Dado.n, Dado.m, c, d, Dado.f)"
   ]
  }
 ],
 "metadata": {
  "kernelspec": {
   "display_name": "Python 3",
   "language": "python",
   "name": "python3"
  },
  "language_info": {
   "codemirror_mode": {
    "name": "ipython",
    "version": 3
   },
   "file_extension": ".py",
   "mimetype": "text/x-python",
   "name": "python",
   "nbconvert_exporter": "python",
   "pygments_lexer": "ipython3",
   "version": "3.11.6"
  }
 },
 "nbformat": 4,
 "nbformat_minor": 2
}
