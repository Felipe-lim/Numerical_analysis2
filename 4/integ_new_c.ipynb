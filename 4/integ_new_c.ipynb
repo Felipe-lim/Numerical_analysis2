{
 "cells": [
  {
   "cell_type": "markdown",
   "metadata": {},
   "source": [
    "parˆametros de sa´ıda Integral, CondErro\n",
    "{ valor da integral e condi¸c˜ao de erro, sendo }\n",
    "{ CondErro = 0 se n˜ao houve erro de consistˆencia dos parˆametros dados, }\n",
    "{ CondErro = 1 se (n < 1 ou n > 8), }\n",
    "{ CondErro = 2 se resto(m, n) 6= 0 e }\n",
    "{ CondErro = 3 se ambas as condi¸c˜oes ocorrerem }"
   ]
  },
  {
   "cell_type": "code",
   "execution_count": 6,
   "metadata": {},
   "outputs": [],
   "source": [
    "class Dado:\n",
    "    a = 0\n",
    "    b = 3.14\n",
    "    n = 2\n",
    "    m = 6\n",
    "\n",
    "    #não fala que a função faz parte da entrada\n",
    "    def f(x):\n",
    "        y  = (x**3+5)/9 #???????\n",
    "        return y\n",
    "\n",
    "d = [2, 6, 8, 90, 288, 840, 17280, 28350]\n",
    "c = [1, 1, 4, 1, 3, 7, 32, 12, 19, 75, 50, \n",
    "     41, 216, 27, 272, 751, 3577, 1323, 2989, \n",
    "     989, 5888, -928, 10496, -4540]"
   ]
  },
  {
   "cell_type": "code",
   "execution_count": 15,
   "metadata": {},
   "outputs": [],
   "source": [
    "def integ_new_c(a, b, n, m, c, d, f):\n",
    "    cond_erro = 0\n",
    "    integral = 0\n",
    "\n",
    "    if n<1 or n>8:\n",
    "        cond_erro += 1\n",
    "    \n",
    "    if m%n != 0:\n",
    "        cond_erro +=2\n",
    "\n",
    "    if cond_erro != 0:\n",
    "        return\n",
    "    \n",
    "    #Calculo da integral\n",
    "    p = int(0.25* (n* (n + 2)) + n%2)\n",
    "    h = (b - a)/2\n",
    "\n",
    "    for i in range(m+1):\n",
    "        x = a + i * h\n",
    "        y = f(x) #??????\n",
    "        j = p + int(0.5* n- abs((i%n)- 0.5* n))\n",
    "        k = 1 + int((n- (i%n))/ n) - int((m- (i%m))/ m)\n",
    "        integral = integral + y * c[j] * k\n",
    "        \n",
    "        print(i, x, y, c[j], k)\n",
    "    \n",
    "    integral = n * h / d[n] * integral\n",
    "    print(integral, cond_erro)"
   ]
  },
  {
   "cell_type": "code",
   "execution_count": 16,
   "metadata": {},
   "outputs": [
    {
     "name": "stdout",
     "output_type": "stream",
     "text": [
      "0 0 0.5555555555555556 4 1\n",
      "1 1 0.6666666666666666 1 1\n",
      "2 2 1.4444444444444444 4 2\n",
      "3 3 3.5555555555555554 1 1\n",
      "4 4 7.666666666666667 4 2\n",
      "5 5 14.444444444444445 1 1\n",
      "6 6 24.555555555555557 4 1\n",
      "75.36 0\n"
     ]
    }
   ],
   "source": [
    "integ_new_c(Dado.a, Dado.b, Dado.n, Dado.m, c, d, Dado.f)"
   ]
  }
 ],
 "metadata": {
  "kernelspec": {
   "display_name": "Python 3",
   "language": "python",
   "name": "python3"
  },
  "language_info": {
   "codemirror_mode": {
    "name": "ipython",
    "version": 3
   },
   "file_extension": ".py",
   "mimetype": "text/x-python",
   "name": "python",
   "nbconvert_exporter": "python",
   "pygments_lexer": "ipython3",
   "version": "3.12.0"
  }
 },
 "nbformat": 4,
 "nbformat_minor": 2
}
